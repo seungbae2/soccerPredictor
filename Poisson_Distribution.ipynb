{
 "cells": [
  {
   "cell_type": "code",
   "execution_count": 1,
   "metadata": {},
   "outputs": [],
   "source": [
    "import pandas as pd\n",
    "import matplotlib.pyplot as plt\n",
    "import numpy as np\n",
    "import seaborn\n",
    "from scipy.stats import poisson,skellam"
   ]
  },
  {
   "cell_type": "code",
   "execution_count": 2,
   "metadata": {},
   "outputs": [
    {
     "data": {
      "text/html": [
       "<div>\n",
       "<style scoped>\n",
       "    .dataframe tbody tr th:only-of-type {\n",
       "        vertical-align: middle;\n",
       "    }\n",
       "\n",
       "    .dataframe tbody tr th {\n",
       "        vertical-align: top;\n",
       "    }\n",
       "\n",
       "    .dataframe thead th {\n",
       "        text-align: right;\n",
       "    }\n",
       "</style>\n",
       "<table border=\"1\" class=\"dataframe\">\n",
       "  <thead>\n",
       "    <tr style=\"text-align: right;\">\n",
       "      <th></th>\n",
       "      <th>HomeTeam</th>\n",
       "      <th>AwayTeam</th>\n",
       "      <th>HomeGoals</th>\n",
       "      <th>AwayGoals</th>\n",
       "      <th>Result</th>\n",
       "    </tr>\n",
       "  </thead>\n",
       "  <tbody>\n",
       "    <tr>\n",
       "      <th>0</th>\n",
       "      <td>Liverpool</td>\n",
       "      <td>Norwich</td>\n",
       "      <td>4</td>\n",
       "      <td>1</td>\n",
       "      <td>H</td>\n",
       "    </tr>\n",
       "    <tr>\n",
       "      <th>1</th>\n",
       "      <td>West Ham</td>\n",
       "      <td>Man City</td>\n",
       "      <td>0</td>\n",
       "      <td>5</td>\n",
       "      <td>A</td>\n",
       "    </tr>\n",
       "    <tr>\n",
       "      <th>2</th>\n",
       "      <td>Bournemouth</td>\n",
       "      <td>Sheffield United</td>\n",
       "      <td>1</td>\n",
       "      <td>1</td>\n",
       "      <td>D</td>\n",
       "    </tr>\n",
       "    <tr>\n",
       "      <th>3</th>\n",
       "      <td>Burnley</td>\n",
       "      <td>Southampton</td>\n",
       "      <td>3</td>\n",
       "      <td>0</td>\n",
       "      <td>H</td>\n",
       "    </tr>\n",
       "    <tr>\n",
       "      <th>4</th>\n",
       "      <td>Crystal Palace</td>\n",
       "      <td>Everton</td>\n",
       "      <td>0</td>\n",
       "      <td>0</td>\n",
       "      <td>D</td>\n",
       "    </tr>\n",
       "  </tbody>\n",
       "</table>\n",
       "</div>"
      ],
      "text/plain": [
       "         HomeTeam          AwayTeam  HomeGoals  AwayGoals Result\n",
       "0       Liverpool           Norwich          4          1      H\n",
       "1        West Ham          Man City          0          5      A\n",
       "2     Bournemouth  Sheffield United          1          1      D\n",
       "3         Burnley       Southampton          3          0      H\n",
       "4  Crystal Palace           Everton          0          0      D"
      ]
     },
     "execution_count": 2,
     "metadata": {},
     "output_type": "execute_result"
    }
   ],
   "source": [
    "epl_1920 = pd.read_csv(\"http://football-data.co.uk/mmz4281/1920/E0.csv\")\n",
    "epl_1920 = epl_1920[['HomeTeam','AwayTeam','FTHG','FTAG','FTR']]\n",
    "epl_1920 = epl_1920.rename(columns={'FTHG': 'HomeGoals', 'FTAG': 'AwayGoals','FTR':'Result'})\n",
    "epl_1920.head()"
   ]
  },
  {
   "cell_type": "code",
   "execution_count": 3,
   "metadata": {},
   "outputs": [
    {
     "data": {
      "text/html": [
       "<table class=\"simpletable\">\n",
       "<caption>Generalized Linear Model Regression Results</caption>\n",
       "<tr>\n",
       "  <th>Dep. Variable:</th>         <td>goals</td>      <th>  No. Observations:  </th>  <td>   506</td> \n",
       "</tr>\n",
       "<tr>\n",
       "  <th>Model:</th>                  <td>GLM</td>       <th>  Df Residuals:      </th>  <td>   466</td> \n",
       "</tr>\n",
       "<tr>\n",
       "  <th>Model Family:</th>         <td>Poisson</td>     <th>  Df Model:          </th>  <td>    39</td> \n",
       "</tr>\n",
       "<tr>\n",
       "  <th>Link Function:</th>          <td>log</td>       <th>  Scale:             </th> <td>  1.0000</td>\n",
       "</tr>\n",
       "<tr>\n",
       "  <th>Method:</th>                <td>IRLS</td>       <th>  Log-Likelihood:    </th> <td> -697.98</td>\n",
       "</tr>\n",
       "<tr>\n",
       "  <th>Date:</th>            <td>Sat, 15 Feb 2020</td> <th>  Deviance:          </th> <td>  468.63</td>\n",
       "</tr>\n",
       "<tr>\n",
       "  <th>Time:</th>                <td>10:26:30</td>     <th>  Pearson chi2:      </th>  <td>  391.</td> \n",
       "</tr>\n",
       "<tr>\n",
       "  <th>No. Iterations:</th>          <td>5</td>        <th>                     </th>     <td> </td>   \n",
       "</tr>\n",
       "<tr>\n",
       "  <th>Covariance Type:</th>     <td>nonrobust</td>    <th>                     </th>     <td> </td>   \n",
       "</tr>\n",
       "</table>\n",
       "<table class=\"simpletable\">\n",
       "<tr>\n",
       "                <td></td>                  <th>coef</th>     <th>std err</th>      <th>z</th>      <th>P>|z|</th>  <th>[0.025</th>    <th>0.975]</th>  \n",
       "</tr>\n",
       "<tr>\n",
       "  <th>Intercept</th>                    <td>    0.2012</td> <td>    0.254</td> <td>    0.794</td> <td> 0.427</td> <td>   -0.296</td> <td>    0.698</td>\n",
       "</tr>\n",
       "<tr>\n",
       "  <th>team[T.Aston Villa]</th>          <td>   -0.0302</td> <td>    0.251</td> <td>   -0.120</td> <td> 0.904</td> <td>   -0.522</td> <td>    0.462</td>\n",
       "</tr>\n",
       "<tr>\n",
       "  <th>team[T.Bournemouth]</th>          <td>   -0.2914</td> <td>    0.266</td> <td>   -1.097</td> <td> 0.273</td> <td>   -0.812</td> <td>    0.229</td>\n",
       "</tr>\n",
       "<tr>\n",
       "  <th>team[T.Brighton]</th>             <td>   -0.1236</td> <td>    0.253</td> <td>   -0.488</td> <td> 0.625</td> <td>   -0.619</td> <td>    0.372</td>\n",
       "</tr>\n",
       "<tr>\n",
       "  <th>team[T.Burnley]</th>              <td>   -0.1556</td> <td>    0.260</td> <td>   -0.598</td> <td> 0.550</td> <td>   -0.665</td> <td>    0.354</td>\n",
       "</tr>\n",
       "<tr>\n",
       "  <th>team[T.Chelsea]</th>              <td>    0.2736</td> <td>    0.235</td> <td>    1.164</td> <td> 0.244</td> <td>   -0.187</td> <td>    0.734</td>\n",
       "</tr>\n",
       "<tr>\n",
       "  <th>team[T.Crystal Palace]</th>       <td>   -0.4126</td> <td>    0.275</td> <td>   -1.501</td> <td> 0.133</td> <td>   -0.951</td> <td>    0.126</td>\n",
       "</tr>\n",
       "<tr>\n",
       "  <th>team[T.Everton]</th>              <td>   -0.0062</td> <td>    0.247</td> <td>   -0.025</td> <td> 0.980</td> <td>   -0.491</td> <td>    0.479</td>\n",
       "</tr>\n",
       "<tr>\n",
       "  <th>team[T.Leicester]</th>            <td>    0.4879</td> <td>    0.224</td> <td>    2.177</td> <td> 0.029</td> <td>    0.049</td> <td>    0.927</td>\n",
       "</tr>\n",
       "<tr>\n",
       "  <th>team[T.Liverpool]</th>            <td>    0.6134</td> <td>    0.220</td> <td>    2.789</td> <td> 0.005</td> <td>    0.182</td> <td>    1.045</td>\n",
       "</tr>\n",
       "<tr>\n",
       "  <th>team[T.Man City]</th>             <td>    0.6988</td> <td>    0.217</td> <td>    3.219</td> <td> 0.001</td> <td>    0.273</td> <td>    1.124</td>\n",
       "</tr>\n",
       "<tr>\n",
       "  <th>team[T.Man United]</th>           <td>    0.0987</td> <td>    0.244</td> <td>    0.404</td> <td> 0.687</td> <td>   -0.380</td> <td>    0.578</td>\n",
       "</tr>\n",
       "<tr>\n",
       "  <th>team[T.Newcastle]</th>            <td>   -0.3087</td> <td>    0.271</td> <td>   -1.139</td> <td> 0.255</td> <td>   -0.840</td> <td>    0.222</td>\n",
       "</tr>\n",
       "<tr>\n",
       "  <th>team[T.Norwich]</th>              <td>   -0.2935</td> <td>    0.271</td> <td>   -1.084</td> <td> 0.278</td> <td>   -0.824</td> <td>    0.237</td>\n",
       "</tr>\n",
       "<tr>\n",
       "  <th>team[T.Sheffield United]</th>     <td>   -0.1961</td> <td>    0.260</td> <td>   -0.754</td> <td> 0.451</td> <td>   -0.706</td> <td>    0.313</td>\n",
       "</tr>\n",
       "<tr>\n",
       "  <th>team[T.Southampton]</th>          <td>    0.0075</td> <td>    0.253</td> <td>    0.030</td> <td> 0.976</td> <td>   -0.488</td> <td>    0.503</td>\n",
       "</tr>\n",
       "<tr>\n",
       "  <th>team[T.Tottenham]</th>            <td>    0.1907</td> <td>    0.238</td> <td>    0.800</td> <td> 0.424</td> <td>   -0.277</td> <td>    0.658</td>\n",
       "</tr>\n",
       "<tr>\n",
       "  <th>team[T.Watford]</th>              <td>   -0.3462</td> <td>    0.271</td> <td>   -1.278</td> <td> 0.201</td> <td>   -0.877</td> <td>    0.185</td>\n",
       "</tr>\n",
       "<tr>\n",
       "  <th>team[T.West Ham]</th>             <td>   -0.0545</td> <td>    0.255</td> <td>   -0.214</td> <td> 0.831</td> <td>   -0.554</td> <td>    0.445</td>\n",
       "</tr>\n",
       "<tr>\n",
       "  <th>team[T.Wolves]</th>               <td>    0.0873</td> <td>    0.246</td> <td>    0.355</td> <td> 0.722</td> <td>   -0.394</td> <td>    0.569</td>\n",
       "</tr>\n",
       "<tr>\n",
       "  <th>opponent[T.Aston Villa]</th>      <td>    0.3066</td> <td>    0.226</td> <td>    1.356</td> <td> 0.175</td> <td>   -0.137</td> <td>    0.750</td>\n",
       "</tr>\n",
       "<tr>\n",
       "  <th>opponent[T.Bournemouth]</th>      <td>    0.1359</td> <td>    0.235</td> <td>    0.579</td> <td> 0.563</td> <td>   -0.324</td> <td>    0.596</td>\n",
       "</tr>\n",
       "<tr>\n",
       "  <th>opponent[T.Brighton]</th>         <td>    0.0527</td> <td>    0.237</td> <td>    0.222</td> <td> 0.824</td> <td>   -0.412</td> <td>    0.517</td>\n",
       "</tr>\n",
       "<tr>\n",
       "  <th>opponent[T.Burnley]</th>          <td>    0.0569</td> <td>    0.237</td> <td>    0.240</td> <td> 0.811</td> <td>   -0.408</td> <td>    0.522</td>\n",
       "</tr>\n",
       "<tr>\n",
       "  <th>opponent[T.Chelsea]</th>          <td>   -0.0151</td> <td>    0.244</td> <td>   -0.062</td> <td> 0.951</td> <td>   -0.494</td> <td>    0.463</td>\n",
       "</tr>\n",
       "<tr>\n",
       "  <th>opponent[T.Crystal Palace]</th>   <td>   -0.1438</td> <td>    0.248</td> <td>   -0.581</td> <td> 0.561</td> <td>   -0.629</td> <td>    0.342</td>\n",
       "</tr>\n",
       "<tr>\n",
       "  <th>opponent[T.Everton]</th>          <td>    0.0602</td> <td>    0.237</td> <td>    0.254</td> <td> 0.800</td> <td>   -0.405</td> <td>    0.525</td>\n",
       "</tr>\n",
       "<tr>\n",
       "  <th>opponent[T.Leicester]</th>        <td>   -0.2889</td> <td>    0.261</td> <td>   -1.105</td> <td> 0.269</td> <td>   -0.801</td> <td>    0.223</td>\n",
       "</tr>\n",
       "<tr>\n",
       "  <th>opponent[T.Liverpool]</th>        <td>   -0.8325</td> <td>    0.311</td> <td>   -2.678</td> <td> 0.007</td> <td>   -1.442</td> <td>   -0.223</td>\n",
       "</tr>\n",
       "<tr>\n",
       "  <th>opponent[T.Man City]</th>         <td>   -0.1283</td> <td>    0.254</td> <td>   -0.505</td> <td> 0.613</td> <td>   -0.626</td> <td>    0.369</td>\n",
       "</tr>\n",
       "<tr>\n",
       "  <th>opponent[T.Man United]</th>       <td>   -0.1795</td> <td>    0.254</td> <td>   -0.706</td> <td> 0.480</td> <td>   -0.678</td> <td>    0.319</td>\n",
       "</tr>\n",
       "<tr>\n",
       "  <th>opponent[T.Newcastle]</th>        <td>   -0.0023</td> <td>    0.240</td> <td>   -0.010</td> <td> 0.992</td> <td>   -0.473</td> <td>    0.468</td>\n",
       "</tr>\n",
       "<tr>\n",
       "  <th>opponent[T.Norwich]</th>          <td>    0.3148</td> <td>    0.226</td> <td>    1.393</td> <td> 0.164</td> <td>   -0.128</td> <td>    0.758</td>\n",
       "</tr>\n",
       "<tr>\n",
       "  <th>opponent[T.Sheffield United]</th> <td>   -0.4428</td> <td>    0.268</td> <td>   -1.653</td> <td> 0.098</td> <td>   -0.968</td> <td>    0.082</td>\n",
       "</tr>\n",
       "<tr>\n",
       "  <th>opponent[T.Southampton]</th>      <td>    0.2150</td> <td>    0.227</td> <td>    0.946</td> <td> 0.344</td> <td>   -0.230</td> <td>    0.660</td>\n",
       "</tr>\n",
       "<tr>\n",
       "  <th>opponent[T.Tottenham]</th>        <td>   -0.1172</td> <td>    0.248</td> <td>   -0.473</td> <td> 0.636</td> <td>   -0.603</td> <td>    0.368</td>\n",
       "</tr>\n",
       "<tr>\n",
       "  <th>opponent[T.Watford]</th>          <td>    0.1015</td> <td>    0.234</td> <td>    0.433</td> <td> 0.665</td> <td>   -0.358</td> <td>    0.561</td>\n",
       "</tr>\n",
       "<tr>\n",
       "  <th>opponent[T.West Ham]</th>         <td>    0.2325</td> <td>    0.230</td> <td>    1.009</td> <td> 0.313</td> <td>   -0.219</td> <td>    0.684</td>\n",
       "</tr>\n",
       "<tr>\n",
       "  <th>opponent[T.Wolves]</th>           <td>   -0.1288</td> <td>    0.247</td> <td>   -0.521</td> <td> 0.603</td> <td>   -0.614</td> <td>    0.356</td>\n",
       "</tr>\n",
       "<tr>\n",
       "  <th>home</th>                         <td>    0.1429</td> <td>    0.076</td> <td>    1.881</td> <td> 0.060</td> <td>   -0.006</td> <td>    0.292</td>\n",
       "</tr>\n",
       "</table>"
      ],
      "text/plain": [
       "<class 'statsmodels.iolib.summary.Summary'>\n",
       "\"\"\"\n",
       "                 Generalized Linear Model Regression Results                  \n",
       "==============================================================================\n",
       "Dep. Variable:                  goals   No. Observations:                  506\n",
       "Model:                            GLM   Df Residuals:                      466\n",
       "Model Family:                 Poisson   Df Model:                           39\n",
       "Link Function:                    log   Scale:                          1.0000\n",
       "Method:                          IRLS   Log-Likelihood:                -697.98\n",
       "Date:                Sat, 15 Feb 2020   Deviance:                       468.63\n",
       "Time:                        10:26:30   Pearson chi2:                     391.\n",
       "No. Iterations:                     5                                         \n",
       "Covariance Type:            nonrobust                                         \n",
       "================================================================================================\n",
       "                                   coef    std err          z      P>|z|      [0.025      0.975]\n",
       "------------------------------------------------------------------------------------------------\n",
       "Intercept                        0.2012      0.254      0.794      0.427      -0.296       0.698\n",
       "team[T.Aston Villa]             -0.0302      0.251     -0.120      0.904      -0.522       0.462\n",
       "team[T.Bournemouth]             -0.2914      0.266     -1.097      0.273      -0.812       0.229\n",
       "team[T.Brighton]                -0.1236      0.253     -0.488      0.625      -0.619       0.372\n",
       "team[T.Burnley]                 -0.1556      0.260     -0.598      0.550      -0.665       0.354\n",
       "team[T.Chelsea]                  0.2736      0.235      1.164      0.244      -0.187       0.734\n",
       "team[T.Crystal Palace]          -0.4126      0.275     -1.501      0.133      -0.951       0.126\n",
       "team[T.Everton]                 -0.0062      0.247     -0.025      0.980      -0.491       0.479\n",
       "team[T.Leicester]                0.4879      0.224      2.177      0.029       0.049       0.927\n",
       "team[T.Liverpool]                0.6134      0.220      2.789      0.005       0.182       1.045\n",
       "team[T.Man City]                 0.6988      0.217      3.219      0.001       0.273       1.124\n",
       "team[T.Man United]               0.0987      0.244      0.404      0.687      -0.380       0.578\n",
       "team[T.Newcastle]               -0.3087      0.271     -1.139      0.255      -0.840       0.222\n",
       "team[T.Norwich]                 -0.2935      0.271     -1.084      0.278      -0.824       0.237\n",
       "team[T.Sheffield United]        -0.1961      0.260     -0.754      0.451      -0.706       0.313\n",
       "team[T.Southampton]              0.0075      0.253      0.030      0.976      -0.488       0.503\n",
       "team[T.Tottenham]                0.1907      0.238      0.800      0.424      -0.277       0.658\n",
       "team[T.Watford]                 -0.3462      0.271     -1.278      0.201      -0.877       0.185\n",
       "team[T.West Ham]                -0.0545      0.255     -0.214      0.831      -0.554       0.445\n",
       "team[T.Wolves]                   0.0873      0.246      0.355      0.722      -0.394       0.569\n",
       "opponent[T.Aston Villa]          0.3066      0.226      1.356      0.175      -0.137       0.750\n",
       "opponent[T.Bournemouth]          0.1359      0.235      0.579      0.563      -0.324       0.596\n",
       "opponent[T.Brighton]             0.0527      0.237      0.222      0.824      -0.412       0.517\n",
       "opponent[T.Burnley]              0.0569      0.237      0.240      0.811      -0.408       0.522\n",
       "opponent[T.Chelsea]             -0.0151      0.244     -0.062      0.951      -0.494       0.463\n",
       "opponent[T.Crystal Palace]      -0.1438      0.248     -0.581      0.561      -0.629       0.342\n",
       "opponent[T.Everton]              0.0602      0.237      0.254      0.800      -0.405       0.525\n",
       "opponent[T.Leicester]           -0.2889      0.261     -1.105      0.269      -0.801       0.223\n",
       "opponent[T.Liverpool]           -0.8325      0.311     -2.678      0.007      -1.442      -0.223\n",
       "opponent[T.Man City]            -0.1283      0.254     -0.505      0.613      -0.626       0.369\n",
       "opponent[T.Man United]          -0.1795      0.254     -0.706      0.480      -0.678       0.319\n",
       "opponent[T.Newcastle]           -0.0023      0.240     -0.010      0.992      -0.473       0.468\n",
       "opponent[T.Norwich]              0.3148      0.226      1.393      0.164      -0.128       0.758\n",
       "opponent[T.Sheffield United]    -0.4428      0.268     -1.653      0.098      -0.968       0.082\n",
       "opponent[T.Southampton]          0.2150      0.227      0.946      0.344      -0.230       0.660\n",
       "opponent[T.Tottenham]           -0.1172      0.248     -0.473      0.636      -0.603       0.368\n",
       "opponent[T.Watford]              0.1015      0.234      0.433      0.665      -0.358       0.561\n",
       "opponent[T.West Ham]             0.2325      0.230      1.009      0.313      -0.219       0.684\n",
       "opponent[T.Wolves]              -0.1288      0.247     -0.521      0.603      -0.614       0.356\n",
       "home                             0.1429      0.076      1.881      0.060      -0.006       0.292\n",
       "================================================================================================\n",
       "\"\"\""
      ]
     },
     "execution_count": 3,
     "metadata": {},
     "output_type": "execute_result"
    }
   ],
   "source": [
    "import statsmodels.api as sm\n",
    "import statsmodels.formula.api as smf\n",
    "\n",
    "goal_model_data = pd.concat([epl_1920[['HomeTeam','AwayTeam','HomeGoals']].assign(home=1).rename(\n",
    "            columns={'HomeTeam':'team', 'AwayTeam':'opponent','HomeGoals':'goals'}),\n",
    "           epl_1920[['AwayTeam','HomeTeam','AwayGoals']].assign(home=0).rename(\n",
    "            columns={'AwayTeam':'team', 'HomeTeam':'opponent','AwayGoals':'goals'})])\n",
    "\n",
    "poisson_model = smf.glm(formula=\"goals ~ home + team + opponent\", data=goal_model_data, \n",
    "                        family=sm.families.Poisson()).fit()\n",
    "poisson_model.summary()"
   ]
  },
  {
   "cell_type": "code",
   "execution_count": 4,
   "metadata": {},
   "outputs": [],
   "source": [
    "def simulate_match(foot_model, homeTeam, awayTeam, max_goals=10):\n",
    "    home_goals_avg = foot_model.predict(pd.DataFrame(data={'team': homeTeam, \n",
    "                                                            'opponent': awayTeam,'home':1},\n",
    "                                                      index=[1])).values[0]\n",
    "    away_goals_avg = foot_model.predict(pd.DataFrame(data={'team': awayTeam, \n",
    "                                                            'opponent': homeTeam,'home':0},\n",
    "                                                      index=[1])).values[0]\n",
    "    team_pred = [[poisson.pmf(i, team_avg) for i in range(0, max_goals+1)] for team_avg in [home_goals_avg, away_goals_avg]]\n",
    "    return(np.outer(np.array(team_pred[0]), np.array(team_pred[1])))"
   ]
  },
  {
   "cell_type": "code",
   "execution_count": 5,
   "metadata": {},
   "outputs": [
    {
     "data": {
      "text/plain": [
       "array([[6.06683556e-02, 7.87306175e-02, 5.10851997e-02, 2.20981173e-02,\n",
       "        7.16929939e-03, 1.86075051e-03, 4.02455929e-04, 7.46108045e-05,\n",
       "        1.21030038e-05, 1.74514732e-06],\n",
       "       [9.12823200e-02, 1.18459011e-01, 7.68633912e-02, 3.32490867e-02,\n",
       "        1.07870120e-02, 2.79970706e-03, 6.05539915e-04, 1.12260292e-04,\n",
       "        1.82103216e-05, 2.62576914e-06],\n",
       "       [6.86722251e-02, 8.91174094e-02, 5.78247803e-02, 2.50134831e-02,\n",
       "        8.11513246e-03, 2.10623605e-03, 4.55551232e-04, 8.44540769e-05,\n",
       "        1.36997318e-05, 1.97538154e-06],\n",
       "       [3.44416787e-02, 4.46957001e-02, 2.90012811e-02, 1.25451934e-02,\n",
       "        4.07004119e-03, 1.05635583e-03, 2.28475910e-04, 4.23568651e-05,\n",
       "        6.87092578e-06, 9.90727416e-07],\n",
       "       [1.29553385e-02, 1.68124188e-02, 1.09089170e-02, 4.71891132e-03,\n",
       "        1.53095794e-03, 3.97351345e-04, 8.59418842e-05, 1.59326591e-05,\n",
       "        2.58451889e-06, 3.72665025e-07],\n",
       "       [3.89855088e-03, 5.05923253e-03, 3.28273691e-03, 1.42002587e-03,\n",
       "        4.60699457e-04, 1.19571900e-04, 2.58618336e-05, 4.79449319e-06,\n",
       "        7.77739494e-07, 1.12143234e-07],\n",
       "       [9.77634237e-04, 1.26869678e-03, 8.23207416e-04, 3.56097933e-04,\n",
       "        1.15528968e-04, 2.99848807e-05, 6.48533640e-06, 1.20230846e-06,\n",
       "        1.95032662e-07, 2.81220045e-08],\n",
       "       [2.10137136e-04, 2.72699437e-04, 1.76943935e-04, 7.65413044e-05,\n",
       "        2.48323203e-05, 6.44508621e-06, 1.39398761e-06, 2.58429631e-07,\n",
       "        4.19212047e-08, 6.04467115e-09],\n",
       "       [3.95218501e-05, 5.12883468e-05, 3.32789901e-05, 1.43956181e-05,\n",
       "        4.67037508e-06, 1.21216905e-06, 2.62176265e-07, 4.86045321e-08,\n",
       "        7.88439208e-09, 1.13686040e-09],\n",
       "       [6.60722663e-06, 8.57433875e-06, 5.56355102e-06, 2.40664623e-06,\n",
       "        7.80789019e-07, 2.02649308e-07, 4.38303874e-08, 8.12566106e-09,\n",
       "        1.31810543e-09, 1.90059277e-10]])"
      ]
     },
     "execution_count": 5,
     "metadata": {},
     "output_type": "execute_result"
    }
   ],
   "source": [
    "sou_burn = simulate_match(poisson_model, 'Southampton', 'Burnley', max_goals=9)\n",
    "sou_burn"
   ]
  },
  {
   "cell_type": "code",
   "execution_count": 6,
   "metadata": {},
   "outputs": [
    {
     "data": {
      "text/plain": [
       "0.4212364558205641"
      ]
     },
     "execution_count": 6,
     "metadata": {},
     "output_type": "execute_result"
    }
   ],
   "source": [
    "np.sum(np.tril(sou_burn, -1))"
   ]
  },
  {
   "cell_type": "code",
   "execution_count": 7,
   "metadata": {},
   "outputs": [
    {
     "data": {
      "text/plain": [
       "0.2511546222571516"
      ]
     },
     "execution_count": 7,
     "metadata": {},
     "output_type": "execute_result"
    }
   ],
   "source": [
    "np.sum(np.diag(sou_burn))"
   ]
  },
  {
   "cell_type": "code",
   "execution_count": 8,
   "metadata": {},
   "outputs": [
    {
     "data": {
      "text/plain": [
       "0.3276035597467952"
      ]
     },
     "execution_count": 8,
     "metadata": {},
     "output_type": "execute_result"
    }
   ],
   "source": [
    "np.sum(np.triu(sou_burn, 1))"
   ]
  },
  {
   "cell_type": "code",
   "execution_count": 9,
   "metadata": {},
   "outputs": [
    {
     "data": {
      "text/plain": [
       "array([[2.86814367e-02, 8.87382645e-02, 1.37274846e-01, 1.41572773e-01,\n",
       "        1.09503948e-01, 6.77594388e-02, 3.49404569e-02, 1.54433164e-02,\n",
       "        5.97256122e-03, 2.05318522e-03],\n",
       "       [1.31240062e-02, 4.06047139e-02, 6.28140055e-02, 6.47806442e-02,\n",
       "        5.01066422e-02, 3.10052563e-02, 1.59879987e-02, 7.06652814e-03,\n",
       "        2.73291506e-03, 9.39493228e-04],\n",
       "       [3.00263094e-03, 9.28992021e-03, 1.43711664e-02, 1.48211121e-02,\n",
       "        1.14638588e-02, 7.09366792e-03, 3.65788150e-03, 1.61674535e-03,\n",
       "        6.25261464e-04, 2.14945909e-04],\n",
       "       [4.57979696e-04, 1.41695564e-03, 2.19197848e-03, 2.26060696e-03,\n",
       "        1.74853810e-03, 1.08196976e-03, 5.57922533e-04, 2.46595922e-04,\n",
       "        9.53687154e-05, 3.27848690e-05],\n",
       "       [5.23904052e-05, 1.62092077e-04, 2.50750507e-04, 2.58601235e-04,\n",
       "        2.00023320e-04, 1.23771501e-04, 6.38233264e-05, 2.82092425e-05,\n",
       "        1.09096663e-05, 3.75041205e-06],\n",
       "       [4.79454366e-06, 1.48339669e-05, 2.29476036e-05, 2.36660683e-05,\n",
       "        1.83052705e-05, 1.13270333e-05, 5.84083523e-06, 2.58158806e-06,\n",
       "        9.98405549e-07, 3.43221516e-07],\n",
       "       [3.65646610e-07, 1.13128383e-06, 1.75005466e-06, 1.80484699e-06,\n",
       "        1.39601610e-06, 8.63834312e-07, 4.45440016e-07, 1.96879827e-07,\n",
       "        7.61414705e-08, 2.61751259e-08],\n",
       "       [2.39017135e-08, 7.39501510e-08, 1.14398176e-07, 1.17979859e-07,\n",
       "        9.12552607e-08, 5.64674187e-08, 2.91176763e-08, 1.28697083e-08,\n",
       "        4.97724185e-09, 1.71102464e-09],\n",
       "       [1.36711351e-09, 4.22974906e-09, 6.54326690e-09, 6.74812953e-09,\n",
       "        5.21955463e-09, 3.22978395e-09, 1.66545250e-09, 7.36112580e-10,\n",
       "        2.84684801e-10, 9.78659917e-11],\n",
       "       [6.95068470e-11, 2.15049094e-10, 3.32673074e-10, 3.43088708e-10,\n",
       "        2.65372834e-10, 1.64208823e-10, 8.46750118e-11, 3.74254693e-11,\n",
       "        1.44739576e-11, 4.97570720e-12]])"
      ]
     },
     "execution_count": 9,
     "metadata": {},
     "output_type": "execute_result"
    }
   ],
   "source": [
    "Nor_Liv = simulate_match(poisson_model, 'Norwich', 'Liverpool', max_goals=9)\n",
    "Nor_Liv"
   ]
  },
  {
   "cell_type": "code",
   "execution_count": 10,
   "metadata": {},
   "outputs": [
    {
     "name": "stdout",
     "output_type": "stream",
     "text": [
      "Norwich win Prob\n",
      "0.030299702846216286\n",
      "Draw Prob\n",
      "0.08612973292634786\n",
      "Liverpool win Prob\n",
      "0.8821894597843525\n"
     ]
    }
   ],
   "source": [
    "print('Norwich win Prob')\n",
    "print(np.sum(np.tril(Nor_Liv, -1)))\n",
    "print('Draw Prob')\n",
    "print(np.sum(np.diag(Nor_Liv)))\n",
    "print('Liverpool win Prob')\n",
    "print(np.sum(np.triu(Nor_Liv, 1)))"
   ]
  },
  {
   "cell_type": "code",
   "execution_count": 11,
   "metadata": {},
   "outputs": [
    {
     "name": "stdout",
     "output_type": "stream",
     "text": [
      "Southampton win Prob\n",
      "0.4212364558205641\n",
      "Draw Prob\n",
      "0.2511546222571516\n",
      "Burnley win Prob\n",
      "0.3276035597467952\n"
     ]
    }
   ],
   "source": [
    "print('Southampton win Prob')\n",
    "print(np.sum(np.tril(sou_burn, -1)))\n",
    "print('Draw Prob')\n",
    "print(np.sum(np.diag(sou_burn)))\n",
    "print('Burnley win Prob')\n",
    "print(np.sum(np.triu(sou_burn, 1)))"
   ]
  },
  {
   "cell_type": "code",
   "execution_count": null,
   "metadata": {},
   "outputs": [],
   "source": []
  },
  {
   "cell_type": "code",
   "execution_count": null,
   "metadata": {},
   "outputs": [],
   "source": []
  }
 ],
 "metadata": {
  "kernelspec": {
   "display_name": "Python 3",
   "language": "python",
   "name": "python3"
  },
  "language_info": {
   "codemirror_mode": {
    "name": "ipython",
    "version": 3
   },
   "file_extension": ".py",
   "mimetype": "text/x-python",
   "name": "python",
   "nbconvert_exporter": "python",
   "pygments_lexer": "ipython3",
   "version": "3.7.3"
  }
 },
 "nbformat": 4,
 "nbformat_minor": 2
}
