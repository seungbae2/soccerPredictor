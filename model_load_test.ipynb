{
 "cells": [
  {
   "cell_type": "code",
   "execution_count": null,
   "metadata": {},
   "outputs": [],
   "source": [
    "from flask import Flask, render_template, request\n",
    "import os\n",
    "import pickle\n",
    "import numpy as np\n",
    "from scipy.stats import poisson,skellam\n",
    "import pandas as pd\n",
    "from datetime import date\n",
    "from update import update_model\n",
    "from apiRequest import getFutureFixture"
   ]
  },
  {
   "cell_type": "code",
   "execution_count": null,
   "metadata": {},
   "outputs": [],
   "source": [
    "predictor = pickle.load(open(os.path.join('predictor/plk_objects/predictor.plk'), 'rb'))"
   ]
  },
  {
   "cell_type": "code",
   "execution_count": null,
   "metadata": {},
   "outputs": [],
   "source": [
    "predictor"
   ]
  },
  {
   "cell_type": "code",
   "execution_count": null,
   "metadata": {},
   "outputs": [],
   "source": [
    "def simulate_match(foot_model, homeTeam, awayTeam, max_goals=10):\n",
    "    home_goals_avg = foot_model.predict(pd.DataFrame(data={'team': homeTeam, \n",
    "                                                            'opponent': awayTeam,'home':1},\n",
    "                                                      index=[1])).values[0]\n",
    "    away_goals_avg = foot_model.predict(pd.DataFrame(data={'team': awayTeam, \n",
    "                                                            'opponent': homeTeam,'home':0},\n",
    "                                                      index=[1])).values[0]\n",
    "    team_pred = [[poisson.pmf(i, team_avg) for i in range(0, max_goals+1)] for team_avg in [home_goals_avg, away_goals_avg]]\n",
    "    return(np.outer(np.array(team_pred[0]), np.array(team_pred[1])))"
   ]
  },
  {
   "cell_type": "code",
   "execution_count": null,
   "metadata": {},
   "outputs": [],
   "source": [
    "future_fixtures = getFutureFixture()"
   ]
  },
  {
   "cell_type": "code",
   "execution_count": null,
   "metadata": {},
   "outputs": [],
   "source": [
    "future_fixtures"
   ]
  },
  {
   "cell_type": "code",
   "execution_count": null,
   "metadata": {},
   "outputs": [],
   "source": [
    "def changeClubName(matches):\n",
    "\n",
    "    for match in matches:\n",
    "        home = match[1]\n",
    "        away = match[2]\n",
    "\n",
    "        if match[1] == 'Manchester City':\n",
    "            match[1] = 'Man City'\n",
    "        elif match[1] == 'Manchester United':\n",
    "            match[1] = 'Man United'\n",
    "        elif match[1] == 'Sheffield Utd':\n",
    "            match[1] = 'Sheffield United'\n",
    "\n",
    "        if match[2] == 'Manchester City':\n",
    "            match[2] = 'Man City'\n",
    "        elif match[2] == 'Manchester United':\n",
    "            match[2] = 'Man United'\n",
    "        elif match[2] == 'Sheffield Utd':\n",
    "            match[2] = 'Sheffield United'\n",
    "            \n",
    "    return matches\n",
    "\n",
    "upcoming_fixtures = changeClubName(future_fixtures)"
   ]
  },
  {
   "cell_type": "code",
   "execution_count": null,
   "metadata": {},
   "outputs": [],
   "source": [
    "upcoming_fixtures"
   ]
  },
  {
   "cell_type": "code",
   "execution_count": null,
   "metadata": {},
   "outputs": [],
   "source": [
    "home_prop = []\n",
    "draw_prop = []\n",
    "away_prop = []\n",
    "\n",
    "for index in upcoming_fixtures:\n",
    "    home = index[1]\n",
    "    away = index[2]\n",
    "    result = simulate_match(predictor, home, away, max_goals=10)\n",
    "    home_prop.append(np.sum(np.tril(result, -1)))\n",
    "    draw_prop.append(np.sum(np.diag(result)))\n",
    "    away_prop.append(np.sum(np.triu(result, 1)))"
   ]
  },
  {
   "cell_type": "code",
   "execution_count": null,
   "metadata": {},
   "outputs": [],
   "source": [
    "print(predictor)"
   ]
  },
  {
   "cell_type": "code",
   "execution_count": null,
   "metadata": {},
   "outputs": [],
   "source": [
    "result = simulate_match(predictor, home, away, max_goals=10)"
   ]
  },
  {
   "cell_type": "code",
   "execution_count": null,
   "metadata": {},
   "outputs": [],
   "source": [
    "result"
   ]
  },
  {
   "cell_type": "code",
   "execution_count": null,
   "metadata": {},
   "outputs": [],
   "source": []
  }
 ],
 "metadata": {
  "kernelspec": {
   "display_name": "Python 3",
   "language": "python",
   "name": "python3"
  },
  "language_info": {
   "codemirror_mode": {
    "name": "ipython",
    "version": 3
   },
   "file_extension": ".py",
   "mimetype": "text/x-python",
   "name": "python",
   "nbconvert_exporter": "python",
   "pygments_lexer": "ipython3",
   "version": "3.7.3"
  }
 },
 "nbformat": 4,
 "nbformat_minor": 2
}
