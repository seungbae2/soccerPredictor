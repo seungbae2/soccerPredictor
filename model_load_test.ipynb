{
 "cells": [
  {
   "cell_type": "code",
   "execution_count": 1,
   "metadata": {},
   "outputs": [],
   "source": [
    "from flask import Flask, render_template, request\n",
    "import os\n",
    "import pickle\n",
    "import numpy as np\n",
    "from scipy.stats import poisson,skellam\n",
    "import pandas as pd\n",
    "from datetime import date\n",
    "from update import update_model\n",
    "from apiRequest import getFutureFixture"
   ]
  },
  {
   "cell_type": "code",
   "execution_count": 2,
   "metadata": {},
   "outputs": [],
   "source": [
    "predictor = pickle.load(open(os.path.join('predictor/plk_objects/predictor.plk'), 'rb'))"
   ]
  },
  {
   "cell_type": "code",
   "execution_count": 3,
   "metadata": {},
   "outputs": [],
   "source": [
    "def simulate_match(foot_model, homeTeam, awayTeam, max_goals=10):\n",
    "    home_goals_avg = foot_model.predict(pd.DataFrame(data={'team': homeTeam, \n",
    "                                                            'opponent': awayTeam,'home':1},\n",
    "                                                      index=[1])).values[0]\n",
    "    away_goals_avg = foot_model.predict(pd.DataFrame(data={'team': awayTeam, \n",
    "                                                            'opponent': homeTeam,'home':0},\n",
    "                                                      index=[1])).values[0]\n",
    "    team_pred = [[poisson.pmf(i, team_avg) for i in range(0, max_goals+1)] for team_avg in [home_goals_avg, away_goals_avg]]\n",
    "    return(np.outer(np.array(team_pred[0]), np.array(team_pred[1])))"
   ]
  },
  {
   "cell_type": "code",
   "execution_count": 4,
   "metadata": {},
   "outputs": [],
   "source": [
    "future_fixtures = getFutureFixture()"
   ]
  },
  {
   "cell_type": "code",
   "execution_count": 5,
   "metadata": {},
   "outputs": [
    {
     "data": {
      "text/plain": [
       "[['2020-02-22T04:30:00-08:00', 'Chelsea', 'Tottenham'],\n",
       " ['2020-02-22T07:00:00-08:00', 'Burnley', 'Bournemouth'],\n",
       " ['2020-02-22T07:00:00-08:00', 'Crystal Palace', 'Newcastle'],\n",
       " ['2020-02-22T07:00:00-08:00', 'Sheffield Utd', 'Brighton'],\n",
       " ['2020-02-22T07:00:00-08:00', 'Southampton', 'Aston Villa'],\n",
       " ['2020-02-22T09:30:00-08:00', 'Leicester', 'Manchester City'],\n",
       " ['2020-02-23T06:00:00-08:00', 'Manchester United', 'Watford'],\n",
       " ['2020-02-23T06:00:00-08:00', 'Wolves', 'Norwich'],\n",
       " ['2020-02-23T08:30:00-08:00', 'Arsenal', 'Everton'],\n",
       " ['2020-02-24T12:00:00-08:00', 'Liverpool', 'West Ham']]"
      ]
     },
     "execution_count": 5,
     "metadata": {},
     "output_type": "execute_result"
    }
   ],
   "source": [
    "future_fixtures"
   ]
  },
  {
   "cell_type": "code",
   "execution_count": 6,
   "metadata": {},
   "outputs": [],
   "source": [
    "def changeClubName(matches):\n",
    "\n",
    "    for match in matches:\n",
    "        home = match[1]\n",
    "        away = match[2]\n",
    "\n",
    "        if match[1] == 'Manchester City':\n",
    "            match[1] = 'Man City'\n",
    "        elif match[1] == 'Manchester United':\n",
    "            match[1] = 'Man United'\n",
    "        elif match[1] == 'Sheffield Utd':\n",
    "            match[1] = 'Sheffield United'\n",
    "\n",
    "        if match[2] == 'Manchester City':\n",
    "            match[2] = 'Man City'\n",
    "        elif match[2] == 'Manchester United':\n",
    "            match[2] = 'Man United'\n",
    "        elif match[2] == 'Sheffield Utd':\n",
    "            match[2] = 'Sheffield United'\n",
    "            \n",
    "    return matches\n",
    "\n",
    "upcoming_fixtures = changeClubName(future_fixtures)"
   ]
  },
  {
   "cell_type": "code",
   "execution_count": 7,
   "metadata": {},
   "outputs": [
    {
     "data": {
      "text/plain": [
       "[['2020-02-22T04:30:00-08:00', 'Chelsea', 'Tottenham'],\n",
       " ['2020-02-22T07:00:00-08:00', 'Burnley', 'Bournemouth'],\n",
       " ['2020-02-22T07:00:00-08:00', 'Crystal Palace', 'Newcastle'],\n",
       " ['2020-02-22T07:00:00-08:00', 'Sheffield United', 'Brighton'],\n",
       " ['2020-02-22T07:00:00-08:00', 'Southampton', 'Aston Villa'],\n",
       " ['2020-02-22T09:30:00-08:00', 'Leicester', 'Man City'],\n",
       " ['2020-02-23T06:00:00-08:00', 'Man United', 'Watford'],\n",
       " ['2020-02-23T06:00:00-08:00', 'Wolves', 'Norwich'],\n",
       " ['2020-02-23T08:30:00-08:00', 'Arsenal', 'Everton'],\n",
       " ['2020-02-24T12:00:00-08:00', 'Liverpool', 'West Ham']]"
      ]
     },
     "execution_count": 7,
     "metadata": {},
     "output_type": "execute_result"
    }
   ],
   "source": [
    "upcoming_fixtures"
   ]
  },
  {
   "cell_type": "code",
   "execution_count": 9,
   "metadata": {},
   "outputs": [
    {
     "ename": "AttributeError",
     "evalue": "'NoneType' object has no attribute 'predict'",
     "output_type": "error",
     "traceback": [
      "\u001b[0;31m---------------------------------------------------------------------------\u001b[0m",
      "\u001b[0;31mAttributeError\u001b[0m                            Traceback (most recent call last)",
      "\u001b[0;32m<ipython-input-9-92826f8f9817>\u001b[0m in \u001b[0;36m<module>\u001b[0;34m\u001b[0m\n\u001b[1;32m      6\u001b[0m     \u001b[0mhome\u001b[0m \u001b[0;34m=\u001b[0m \u001b[0mindex\u001b[0m\u001b[0;34m[\u001b[0m\u001b[0;36m1\u001b[0m\u001b[0;34m]\u001b[0m\u001b[0;34m\u001b[0m\u001b[0;34m\u001b[0m\u001b[0m\n\u001b[1;32m      7\u001b[0m     \u001b[0maway\u001b[0m \u001b[0;34m=\u001b[0m \u001b[0mindex\u001b[0m\u001b[0;34m[\u001b[0m\u001b[0;36m2\u001b[0m\u001b[0;34m]\u001b[0m\u001b[0;34m\u001b[0m\u001b[0;34m\u001b[0m\u001b[0m\n\u001b[0;32m----> 8\u001b[0;31m     \u001b[0mresult\u001b[0m \u001b[0;34m=\u001b[0m \u001b[0msimulate_match\u001b[0m\u001b[0;34m(\u001b[0m\u001b[0mpredictor\u001b[0m\u001b[0;34m,\u001b[0m \u001b[0mhome\u001b[0m\u001b[0;34m,\u001b[0m \u001b[0maway\u001b[0m\u001b[0;34m,\u001b[0m \u001b[0mmax_goals\u001b[0m\u001b[0;34m=\u001b[0m\u001b[0;36m10\u001b[0m\u001b[0;34m)\u001b[0m\u001b[0;34m\u001b[0m\u001b[0;34m\u001b[0m\u001b[0m\n\u001b[0m\u001b[1;32m      9\u001b[0m     \u001b[0mhome_prop\u001b[0m\u001b[0;34m.\u001b[0m\u001b[0mappend\u001b[0m\u001b[0;34m(\u001b[0m\u001b[0mnp\u001b[0m\u001b[0;34m.\u001b[0m\u001b[0msum\u001b[0m\u001b[0;34m(\u001b[0m\u001b[0mnp\u001b[0m\u001b[0;34m.\u001b[0m\u001b[0mtril\u001b[0m\u001b[0;34m(\u001b[0m\u001b[0mresult\u001b[0m\u001b[0;34m,\u001b[0m \u001b[0;34m-\u001b[0m\u001b[0;36m1\u001b[0m\u001b[0;34m)\u001b[0m\u001b[0;34m)\u001b[0m\u001b[0;34m)\u001b[0m\u001b[0;34m\u001b[0m\u001b[0;34m\u001b[0m\u001b[0m\n\u001b[1;32m     10\u001b[0m     \u001b[0mdraw_prop\u001b[0m\u001b[0;34m.\u001b[0m\u001b[0mappend\u001b[0m\u001b[0;34m(\u001b[0m\u001b[0mnp\u001b[0m\u001b[0;34m.\u001b[0m\u001b[0msum\u001b[0m\u001b[0;34m(\u001b[0m\u001b[0mnp\u001b[0m\u001b[0;34m.\u001b[0m\u001b[0mdiag\u001b[0m\u001b[0;34m(\u001b[0m\u001b[0mresult\u001b[0m\u001b[0;34m)\u001b[0m\u001b[0;34m)\u001b[0m\u001b[0;34m)\u001b[0m\u001b[0;34m\u001b[0m\u001b[0;34m\u001b[0m\u001b[0m\n",
      "\u001b[0;32m<ipython-input-3-1b5d421cf956>\u001b[0m in \u001b[0;36msimulate_match\u001b[0;34m(foot_model, homeTeam, awayTeam, max_goals)\u001b[0m\n\u001b[1;32m      1\u001b[0m \u001b[0;32mdef\u001b[0m \u001b[0msimulate_match\u001b[0m\u001b[0;34m(\u001b[0m\u001b[0mfoot_model\u001b[0m\u001b[0;34m,\u001b[0m \u001b[0mhomeTeam\u001b[0m\u001b[0;34m,\u001b[0m \u001b[0mawayTeam\u001b[0m\u001b[0;34m,\u001b[0m \u001b[0mmax_goals\u001b[0m\u001b[0;34m=\u001b[0m\u001b[0;36m10\u001b[0m\u001b[0;34m)\u001b[0m\u001b[0;34m:\u001b[0m\u001b[0;34m\u001b[0m\u001b[0;34m\u001b[0m\u001b[0m\n\u001b[0;32m----> 2\u001b[0;31m     home_goals_avg = foot_model.predict(pd.DataFrame(data={'team': homeTeam, \n\u001b[0m\u001b[1;32m      3\u001b[0m                                                             'opponent': awayTeam,'home':1},\n\u001b[1;32m      4\u001b[0m                                                       index=[1])).values[0]\n\u001b[1;32m      5\u001b[0m     away_goals_avg = foot_model.predict(pd.DataFrame(data={'team': awayTeam, \n",
      "\u001b[0;31mAttributeError\u001b[0m: 'NoneType' object has no attribute 'predict'"
     ]
    }
   ],
   "source": [
    "home_prop = []\n",
    "draw_prop = []\n",
    "away_prop = []\n",
    "\n",
    "for index in upcoming_fixtures:\n",
    "    home = index[1]\n",
    "    away = index[2]\n",
    "    result = simulate_match(predictor, home, away, max_goals=10)\n",
    "    home_prop.append(np.sum(np.tril(result, -1)))\n",
    "    draw_prop.append(np.sum(np.diag(result)))\n",
    "    away_prop.append(np.sum(np.triu(result, 1)))"
   ]
  },
  {
   "cell_type": "code",
   "execution_count": null,
   "metadata": {},
   "outputs": [],
   "source": [
    "print(predictor)"
   ]
  },
  {
   "cell_type": "code",
   "execution_count": 10,
   "metadata": {},
   "outputs": [
    {
     "ename": "AttributeError",
     "evalue": "'NoneType' object has no attribute 'predict'",
     "output_type": "error",
     "traceback": [
      "\u001b[0;31m---------------------------------------------------------------------------\u001b[0m",
      "\u001b[0;31mAttributeError\u001b[0m                            Traceback (most recent call last)",
      "\u001b[0;32m<ipython-input-10-978a4748e95b>\u001b[0m in \u001b[0;36m<module>\u001b[0;34m\u001b[0m\n\u001b[0;32m----> 1\u001b[0;31m \u001b[0mresult\u001b[0m \u001b[0;34m=\u001b[0m \u001b[0msimulate_match\u001b[0m\u001b[0;34m(\u001b[0m\u001b[0mpredictor\u001b[0m\u001b[0;34m,\u001b[0m \u001b[0mhome\u001b[0m\u001b[0;34m,\u001b[0m \u001b[0maway\u001b[0m\u001b[0;34m,\u001b[0m \u001b[0mmax_goals\u001b[0m\u001b[0;34m=\u001b[0m\u001b[0;36m10\u001b[0m\u001b[0;34m)\u001b[0m\u001b[0;34m\u001b[0m\u001b[0;34m\u001b[0m\u001b[0m\n\u001b[0m",
      "\u001b[0;32m<ipython-input-3-1b5d421cf956>\u001b[0m in \u001b[0;36msimulate_match\u001b[0;34m(foot_model, homeTeam, awayTeam, max_goals)\u001b[0m\n\u001b[1;32m      1\u001b[0m \u001b[0;32mdef\u001b[0m \u001b[0msimulate_match\u001b[0m\u001b[0;34m(\u001b[0m\u001b[0mfoot_model\u001b[0m\u001b[0;34m,\u001b[0m \u001b[0mhomeTeam\u001b[0m\u001b[0;34m,\u001b[0m \u001b[0mawayTeam\u001b[0m\u001b[0;34m,\u001b[0m \u001b[0mmax_goals\u001b[0m\u001b[0;34m=\u001b[0m\u001b[0;36m10\u001b[0m\u001b[0;34m)\u001b[0m\u001b[0;34m:\u001b[0m\u001b[0;34m\u001b[0m\u001b[0;34m\u001b[0m\u001b[0m\n\u001b[0;32m----> 2\u001b[0;31m     home_goals_avg = foot_model.predict(pd.DataFrame(data={'team': homeTeam, \n\u001b[0m\u001b[1;32m      3\u001b[0m                                                             'opponent': awayTeam,'home':1},\n\u001b[1;32m      4\u001b[0m                                                       index=[1])).values[0]\n\u001b[1;32m      5\u001b[0m     away_goals_avg = foot_model.predict(pd.DataFrame(data={'team': awayTeam, \n",
      "\u001b[0;31mAttributeError\u001b[0m: 'NoneType' object has no attribute 'predict'"
     ]
    }
   ],
   "source": [
    "result = simulate_match(predictor, home, away, max_goals=10)"
   ]
  },
  {
   "cell_type": "code",
   "execution_count": 12,
   "metadata": {},
   "outputs": [],
   "source": [
    "import pandas as pd\n",
    "import statsmodels.api as sm\n",
    "import statsmodels.formula.api as smf\n",
    "import os\n",
    "import pickle\n",
    "\n",
    "\n",
    "epl_1920 = pd.read_csv(\"http://football-data.co.uk/mmz4281/1920/E0.csv\")\n",
    "epl_1920 = epl_1920[['HomeTeam','AwayTeam','FTHG','FTAG','FTR']]\n",
    "epl_1920 = epl_1920.rename(columns={'FTHG': 'HomeGoals', 'FTAG': 'AwayGoals','FTR':'Result'})\n",
    "\n",
    "\n",
    "goal_model_data = pd.concat([epl_1920[['HomeTeam','AwayTeam','HomeGoals']].assign(home=1).rename(\n",
    "            columns={'HomeTeam':'team', 'AwayTeam':'opponent','HomeGoals':'goals'}),\n",
    "           epl_1920[['AwayTeam','HomeTeam','AwayGoals']].assign(home=0).rename(\n",
    "            columns={'AwayTeam':'team', 'HomeTeam':'opponent','AwayGoals':'goals'})])\n",
    "\n",
    "poisson_model = smf.glm(formula=\"goals ~ home + team + opponent\", data=goal_model_data, family=sm.families.Poisson()).fit()"
   ]
  },
  {
   "cell_type": "code",
   "execution_count": 13,
   "metadata": {},
   "outputs": [
    {
     "data": {
      "text/plain": [
       "<statsmodels.genmod.generalized_linear_model.GLMResultsWrapper at 0x7f97d90bd5c0>"
      ]
     },
     "execution_count": 13,
     "metadata": {},
     "output_type": "execute_result"
    }
   ],
   "source": [
    "poisson_model"
   ]
  },
  {
   "cell_type": "code",
   "execution_count": null,
   "metadata": {},
   "outputs": [],
   "source": []
  }
 ],
 "metadata": {
  "kernelspec": {
   "display_name": "Python 3",
   "language": "python",
   "name": "python3"
  },
  "language_info": {
   "codemirror_mode": {
    "name": "ipython",
    "version": 3
   },
   "file_extension": ".py",
   "mimetype": "text/x-python",
   "name": "python",
   "nbconvert_exporter": "python",
   "pygments_lexer": "ipython3",
   "version": "3.7.3"
  }
 },
 "nbformat": 4,
 "nbformat_minor": 2
}
