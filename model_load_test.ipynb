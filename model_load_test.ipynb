{
 "cells": [
  {
   "cell_type": "code",
   "execution_count": 1,
   "metadata": {},
   "outputs": [],
   "source": [
    "import pandas as pd\n",
    "import numpy as np\n",
    "import pickle\n",
    "import re\n",
    "import os\n",
    "from scipy.stats import poisson,skellam"
   ]
  },
  {
   "cell_type": "code",
   "execution_count": 2,
   "metadata": {},
   "outputs": [],
   "source": [
    "def simulate_match(foot_model, homeTeam, awayTeam, max_goals=10):\n",
    "    home_goals_avg = foot_model.predict(pd.DataFrame(data={'team': homeTeam, \n",
    "                                                            'opponent': awayTeam,'home':1},\n",
    "                                                      index=[1])).values[0]\n",
    "    away_goals_avg = foot_model.predict(pd.DataFrame(data={'team': awayTeam, \n",
    "                                                            'opponent': homeTeam,'home':0},\n",
    "                                                      index=[1])).values[0]\n",
    "    team_pred = [[poisson.pmf(i, team_avg) for i in range(0, max_goals+1)] for team_avg in [home_goals_avg, away_goals_avg]]\n",
    "    return(np.outer(np.array(team_pred[0]), np.array(team_pred[1])))"
   ]
  },
  {
   "cell_type": "code",
   "execution_count": 3,
   "metadata": {},
   "outputs": [],
   "source": [
    "predictor = pickle.load(open(os.path.join('predictor/plk_objects/predictor.plk'),'rb'))"
   ]
  },
  {
   "cell_type": "code",
   "execution_count": 4,
   "metadata": {},
   "outputs": [],
   "source": [
    "mci_whu = simulate_match(predictor, 'Man City', 'West Ham', max_goals=10)"
   ]
  },
  {
   "cell_type": "code",
   "execution_count": 5,
   "metadata": {},
   "outputs": [
    {
     "data": {
      "text/plain": [
       "array([[9.77709130e-03, 9.96445330e-03, 5.07770289e-03, 1.72500293e-03,\n",
       "        4.39514948e-04, 8.95875070e-05, 1.52173842e-05, 2.21557151e-06,\n",
       "        2.82253665e-07, 3.19625107e-08, 3.25750200e-09],\n",
       "       [3.52811217e-02, 3.59572268e-02, 1.83231442e-02, 6.22475912e-03,\n",
       "        1.58601162e-03, 3.23280988e-04, 5.49126901e-05, 7.99500032e-06,\n",
       "        1.01852643e-06, 1.15338314e-07, 1.17548585e-08],\n",
       "       [6.36568438e-02, 6.48767233e-02, 3.30599899e-02, 1.12311769e-02,\n",
       "        2.86160102e-03, 5.83287786e-04, 9.90775908e-05, 1.44251787e-05,\n",
       "        1.83770172e-06, 2.08102030e-07, 2.12089966e-08],\n",
       "       [7.65696321e-02, 7.80369641e-02, 3.97662076e-02, 1.35094207e-02,\n",
       "        3.44207667e-03, 7.01607691e-04, 1.19175476e-04, 1.73513257e-05,\n",
       "        2.21047944e-06, 2.50315519e-07, 2.55112407e-08],\n",
       "       [6.90763342e-02, 7.04000695e-02, 3.58745859e-02, 1.21873546e-02,\n",
       "        3.10522634e-03, 6.32946588e-04, 1.07512663e-04, 1.56532811e-05,\n",
       "        1.99415633e-06, 2.25819009e-07, 2.30146462e-08],\n",
       "       [4.98530796e-02, 5.08084325e-02, 2.58910466e-02, 8.79573542e-03,\n",
       "        2.24107283e-03, 4.56803867e-04, 7.75929613e-05, 1.12971291e-05,\n",
       "        1.43920252e-06, 1.62975832e-07, 1.66098998e-08],\n",
       "       [2.99828874e-02, 3.05574605e-02, 1.55715222e-02, 5.28997500e-03,\n",
       "        1.34783719e-03, 2.74733257e-04, 4.66663453e-05, 6.79437566e-06,\n",
       "        8.65572348e-07, 9.80177366e-08, 9.98960865e-09],\n",
       "       [1.54563921e-02, 1.57525887e-02, 8.02723066e-03, 2.72701981e-03,\n",
       "        6.94819674e-04, 1.41626952e-04, 2.40568335e-05, 3.50254907e-06,\n",
       "        4.46208713e-07, 5.05288417e-08, 5.14971445e-09],\n",
       "       [6.97189525e-03, 7.10550025e-03, 3.62083278e-03, 1.23007338e-03,\n",
       "        3.13411432e-04, 6.38834901e-05, 1.08512855e-05, 1.57989038e-06,\n",
       "        2.01270800e-07, 2.27919807e-08, 2.32287518e-09],\n",
       "       [2.79538131e-03, 2.84895023e-03, 1.45177286e-03, 4.93197905e-04,\n",
       "        1.25662310e-04, 2.56140845e-05, 4.35082278e-06, 6.33457028e-07,\n",
       "        8.06995247e-08, 9.13844438e-09, 9.31356775e-10],\n",
       "       [1.00872729e-03, 1.02805790e-03, 5.23879478e-04, 1.77972924e-04,\n",
       "        4.53458712e-05, 9.24297017e-06, 1.57001610e-06, 2.28586128e-07,\n",
       "        2.91208261e-08, 3.29765324e-09, 3.36084738e-10]])"
      ]
     },
     "execution_count": 5,
     "metadata": {},
     "output_type": "execute_result"
    }
   ],
   "source": [
    "mci_whu"
   ]
  },
  {
   "cell_type": "code",
   "execution_count": 6,
   "metadata": {},
   "outputs": [
    {
     "name": "stdout",
     "output_type": "stream",
     "text": [
      "Man City win Prob\n",
      "0.8390220829507811\n",
      "Draw Prob\n",
      "0.09591613856837271\n",
      "West Ham win Prob\n",
      "0.06376675446631597\n"
     ]
    }
   ],
   "source": [
    "print('Man City win Prob')\n",
    "print(np.sum(np.tril(mci_whu, -1)))\n",
    "print('Draw Prob')\n",
    "print(np.sum(np.diag(mci_whu)))\n",
    "print('West Ham win Prob')\n",
    "print(np.sum(np.triu(mci_whu, 1)))"
   ]
  },
  {
   "cell_type": "code",
   "execution_count": 7,
   "metadata": {},
   "outputs": [
    {
     "name": "stderr",
     "output_type": "stream",
     "text": [
      "/Users/sb/anaconda3/lib/python3.7/site-packages/ipykernel_launcher.py:7: FutureWarning: Comparing Series of datetimes with 'datetime.date'.  Currently, the\n",
      "'datetime.date' is coerced to a datetime. In the future pandas will\n",
      "not coerce, and a TypeError will be raised. To retain the current\n",
      "behavior, convert the 'datetime.date' to a datetime with\n",
      "'pd.Timestamp'.\n",
      "  import sys\n"
     ]
    }
   ],
   "source": [
    "from datetime import date\n",
    "\n",
    "fixture = pd.read_csv(\"static/data/epl-2019-GMTStandardTime.csv\")\n",
    "\n",
    "today = date.today()\n",
    "fixture['Date'] = pd.to_datetime(fixture['Date'])\n",
    "future = fixture.loc[fixture['Date'] >= today]\n",
    "homeTeam = future['Home Team'].iloc[:10]\n",
    "awayTeam = future['Away Team'].iloc[:10]\n",
    "dates = future['Date'].iloc[:10]\n",
    "\n",
    "upcoming_ten_matches = pd.DataFrame(data = {'Date' : dates, 'HomeTeam': homeTeam, 'AwayTeam': awayTeam})"
   ]
  },
  {
   "cell_type": "code",
   "execution_count": 8,
   "metadata": {},
   "outputs": [
    {
     "data": {
      "text/html": [
       "<div>\n",
       "<style scoped>\n",
       "    .dataframe tbody tr th:only-of-type {\n",
       "        vertical-align: middle;\n",
       "    }\n",
       "\n",
       "    .dataframe tbody tr th {\n",
       "        vertical-align: top;\n",
       "    }\n",
       "\n",
       "    .dataframe thead th {\n",
       "        text-align: right;\n",
       "    }\n",
       "</style>\n",
       "<table border=\"1\" class=\"dataframe\">\n",
       "  <thead>\n",
       "    <tr style=\"text-align: right;\">\n",
       "      <th></th>\n",
       "      <th>Date</th>\n",
       "      <th>HomeTeam</th>\n",
       "      <th>AwayTeam</th>\n",
       "    </tr>\n",
       "  </thead>\n",
       "  <tbody>\n",
       "    <tr>\n",
       "      <th>260</th>\n",
       "      <td>2020-02-22</td>\n",
       "      <td>Chelsea</td>\n",
       "      <td>Spurs</td>\n",
       "    </tr>\n",
       "    <tr>\n",
       "      <th>261</th>\n",
       "      <td>2020-02-22</td>\n",
       "      <td>Burnley</td>\n",
       "      <td>Bournemouth</td>\n",
       "    </tr>\n",
       "    <tr>\n",
       "      <th>262</th>\n",
       "      <td>2020-02-22</td>\n",
       "      <td>Crystal Palace</td>\n",
       "      <td>Newcastle</td>\n",
       "    </tr>\n",
       "    <tr>\n",
       "      <th>263</th>\n",
       "      <td>2020-02-22</td>\n",
       "      <td>Sheffield Utd</td>\n",
       "      <td>Brighton</td>\n",
       "    </tr>\n",
       "    <tr>\n",
       "      <th>264</th>\n",
       "      <td>2020-02-22</td>\n",
       "      <td>Southampton</td>\n",
       "      <td>Aston Villa</td>\n",
       "    </tr>\n",
       "    <tr>\n",
       "      <th>265</th>\n",
       "      <td>2020-02-22</td>\n",
       "      <td>Leicester</td>\n",
       "      <td>Man City</td>\n",
       "    </tr>\n",
       "    <tr>\n",
       "      <th>266</th>\n",
       "      <td>2020-02-23</td>\n",
       "      <td>Man Utd</td>\n",
       "      <td>Watford</td>\n",
       "    </tr>\n",
       "    <tr>\n",
       "      <th>267</th>\n",
       "      <td>2020-02-23</td>\n",
       "      <td>Wolves</td>\n",
       "      <td>Norwich</td>\n",
       "    </tr>\n",
       "    <tr>\n",
       "      <th>268</th>\n",
       "      <td>2020-02-23</td>\n",
       "      <td>Arsenal</td>\n",
       "      <td>Everton</td>\n",
       "    </tr>\n",
       "    <tr>\n",
       "      <th>269</th>\n",
       "      <td>2020-02-24</td>\n",
       "      <td>Liverpool</td>\n",
       "      <td>West Ham</td>\n",
       "    </tr>\n",
       "  </tbody>\n",
       "</table>\n",
       "</div>"
      ],
      "text/plain": [
       "          Date        HomeTeam     AwayTeam\n",
       "260 2020-02-22         Chelsea        Spurs\n",
       "261 2020-02-22         Burnley  Bournemouth\n",
       "262 2020-02-22  Crystal Palace    Newcastle\n",
       "263 2020-02-22   Sheffield Utd     Brighton\n",
       "264 2020-02-22     Southampton  Aston Villa\n",
       "265 2020-02-22       Leicester     Man City\n",
       "266 2020-02-23         Man Utd      Watford\n",
       "267 2020-02-23          Wolves      Norwich\n",
       "268 2020-02-23         Arsenal      Everton\n",
       "269 2020-02-24       Liverpool     West Ham"
      ]
     },
     "execution_count": 8,
     "metadata": {},
     "output_type": "execute_result"
    }
   ],
   "source": [
    "upcoming_ten_matches"
   ]
  },
  {
   "cell_type": "code",
   "execution_count": 19,
   "metadata": {},
   "outputs": [
    {
     "ename": "PatsyError",
     "evalue": "predict requires that you use a DataFrame when predicting from a model\nthat was created using the formula api.\n\nThe original error message returned by patsy is:\nError converting data to categorical: observation with value 'Man Utd' does not match any of the expected levels (expected: ['Arsenal', 'Aston Villa', ..., 'West Ham', 'Wolves'])\n    goals ~ home + team + opponent\n                   ^^^^",
     "output_type": "error",
     "traceback": [
      "\u001b[0;31m---------------------------------------------------------------------------\u001b[0m",
      "\u001b[0;31mKeyError\u001b[0m                                  Traceback (most recent call last)",
      "\u001b[0;32m~/anaconda3/lib/python3.7/site-packages/patsy/categorical.py\u001b[0m in \u001b[0;36mcategorical_to_int\u001b[0;34m(data, levels, NA_action, origin)\u001b[0m\n\u001b[1;32m    345\u001b[0m             \u001b[0;32mtry\u001b[0m\u001b[0;34m:\u001b[0m\u001b[0;34m\u001b[0m\u001b[0;34m\u001b[0m\u001b[0m\n\u001b[0;32m--> 346\u001b[0;31m                 \u001b[0mout\u001b[0m\u001b[0;34m[\u001b[0m\u001b[0mi\u001b[0m\u001b[0;34m]\u001b[0m \u001b[0;34m=\u001b[0m \u001b[0mlevel_to_int\u001b[0m\u001b[0;34m[\u001b[0m\u001b[0mvalue\u001b[0m\u001b[0;34m]\u001b[0m\u001b[0;34m\u001b[0m\u001b[0;34m\u001b[0m\u001b[0m\n\u001b[0m\u001b[1;32m    347\u001b[0m             \u001b[0;32mexcept\u001b[0m \u001b[0mKeyError\u001b[0m\u001b[0;34m:\u001b[0m\u001b[0;34m\u001b[0m\u001b[0;34m\u001b[0m\u001b[0m\n",
      "\u001b[0;31mKeyError\u001b[0m: 'Man Utd'",
      "\nDuring handling of the above exception, another exception occurred:\n",
      "\u001b[0;31mPatsyError\u001b[0m                                Traceback (most recent call last)",
      "\u001b[0;32m~/anaconda3/lib/python3.7/site-packages/statsmodels/base/model.py\u001b[0m in \u001b[0;36mpredict\u001b[0;34m(self, exog, transform, *args, **kwargs)\u001b[0m\n\u001b[1;32m   1013\u001b[0m             \u001b[0;32mtry\u001b[0m\u001b[0;34m:\u001b[0m\u001b[0;34m\u001b[0m\u001b[0;34m\u001b[0m\u001b[0m\n\u001b[0;32m-> 1014\u001b[0;31m                 \u001b[0mexog\u001b[0m \u001b[0;34m=\u001b[0m \u001b[0mdmatrix\u001b[0m\u001b[0;34m(\u001b[0m\u001b[0mdesign_info\u001b[0m\u001b[0;34m,\u001b[0m \u001b[0mexog\u001b[0m\u001b[0;34m,\u001b[0m \u001b[0mreturn_type\u001b[0m\u001b[0;34m=\u001b[0m\u001b[0;34m\"dataframe\"\u001b[0m\u001b[0;34m)\u001b[0m\u001b[0;34m\u001b[0m\u001b[0;34m\u001b[0m\u001b[0m\n\u001b[0m\u001b[1;32m   1015\u001b[0m             \u001b[0;32mexcept\u001b[0m \u001b[0mException\u001b[0m \u001b[0;32mas\u001b[0m \u001b[0mexc\u001b[0m\u001b[0;34m:\u001b[0m\u001b[0;34m\u001b[0m\u001b[0;34m\u001b[0m\u001b[0m\n",
      "\u001b[0;32m~/anaconda3/lib/python3.7/site-packages/patsy/highlevel.py\u001b[0m in \u001b[0;36mdmatrix\u001b[0;34m(formula_like, data, eval_env, NA_action, return_type)\u001b[0m\n\u001b[1;32m    290\u001b[0m     (lhs, rhs) = _do_highlevel_design(formula_like, data, eval_env,\n\u001b[0;32m--> 291\u001b[0;31m                                       NA_action, return_type)\n\u001b[0m\u001b[1;32m    292\u001b[0m     \u001b[0;32mif\u001b[0m \u001b[0mlhs\u001b[0m\u001b[0;34m.\u001b[0m\u001b[0mshape\u001b[0m\u001b[0;34m[\u001b[0m\u001b[0;36m1\u001b[0m\u001b[0;34m]\u001b[0m \u001b[0;34m!=\u001b[0m \u001b[0;36m0\u001b[0m\u001b[0;34m:\u001b[0m\u001b[0;34m\u001b[0m\u001b[0;34m\u001b[0m\u001b[0m\n",
      "\u001b[0;32m~/anaconda3/lib/python3.7/site-packages/patsy/highlevel.py\u001b[0m in \u001b[0;36m_do_highlevel_design\u001b[0;34m(formula_like, data, eval_env, NA_action, return_type)\u001b[0m\n\u001b[1;32m    168\u001b[0m                                      \u001b[0mNA_action\u001b[0m\u001b[0;34m=\u001b[0m\u001b[0mNA_action\u001b[0m\u001b[0;34m,\u001b[0m\u001b[0;34m\u001b[0m\u001b[0;34m\u001b[0m\u001b[0m\n\u001b[0;32m--> 169\u001b[0;31m                                      return_type=return_type)\n\u001b[0m\u001b[1;32m    170\u001b[0m     \u001b[0;32melse\u001b[0m\u001b[0;34m:\u001b[0m\u001b[0;34m\u001b[0m\u001b[0;34m\u001b[0m\u001b[0m\n",
      "\u001b[0;32m~/anaconda3/lib/python3.7/site-packages/patsy/build.py\u001b[0m in \u001b[0;36mbuild_design_matrices\u001b[0;34m(design_infos, data, NA_action, return_type, dtype)\u001b[0m\n\u001b[1;32m    887\u001b[0m             \u001b[0;32mif\u001b[0m \u001b[0mfactor_info\u001b[0m \u001b[0;32mnot\u001b[0m \u001b[0;32min\u001b[0m \u001b[0mfactor_info_to_values\u001b[0m\u001b[0;34m:\u001b[0m\u001b[0;34m\u001b[0m\u001b[0;34m\u001b[0m\u001b[0m\n\u001b[0;32m--> 888\u001b[0;31m                 \u001b[0mvalue\u001b[0m\u001b[0;34m,\u001b[0m \u001b[0mis_NA\u001b[0m \u001b[0;34m=\u001b[0m \u001b[0m_eval_factor\u001b[0m\u001b[0;34m(\u001b[0m\u001b[0mfactor_info\u001b[0m\u001b[0;34m,\u001b[0m \u001b[0mdata\u001b[0m\u001b[0;34m,\u001b[0m \u001b[0mNA_action\u001b[0m\u001b[0;34m)\u001b[0m\u001b[0;34m\u001b[0m\u001b[0;34m\u001b[0m\u001b[0m\n\u001b[0m\u001b[1;32m    889\u001b[0m                 \u001b[0mfactor_info_to_isNAs\u001b[0m\u001b[0;34m[\u001b[0m\u001b[0mfactor_info\u001b[0m\u001b[0;34m]\u001b[0m \u001b[0;34m=\u001b[0m \u001b[0mis_NA\u001b[0m\u001b[0;34m\u001b[0m\u001b[0;34m\u001b[0m\u001b[0m\n",
      "\u001b[0;32m~/anaconda3/lib/python3.7/site-packages/patsy/build.py\u001b[0m in \u001b[0;36m_eval_factor\u001b[0;34m(factor_info, data, NA_action)\u001b[0m\n\u001b[1;32m     84\u001b[0m         result = categorical_to_int(result, factor_info.categories, NA_action,\n\u001b[0;32m---> 85\u001b[0;31m                                     origin=factor_info.factor)\n\u001b[0m\u001b[1;32m     86\u001b[0m         \u001b[0;32massert\u001b[0m \u001b[0mresult\u001b[0m\u001b[0;34m.\u001b[0m\u001b[0mndim\u001b[0m \u001b[0;34m==\u001b[0m \u001b[0;36m1\u001b[0m\u001b[0;34m\u001b[0m\u001b[0;34m\u001b[0m\u001b[0m\n",
      "\u001b[0;32m~/anaconda3/lib/python3.7/site-packages/patsy/categorical.py\u001b[0m in \u001b[0;36mcategorical_to_int\u001b[0;34m(data, levels, NA_action, origin)\u001b[0m\n\u001b[1;32m    361\u001b[0m                                  \u001b[0;34m\"any of the expected levels (expected: %s)\"\u001b[0m\u001b[0;34m\u001b[0m\u001b[0;34m\u001b[0m\u001b[0m\n\u001b[0;32m--> 362\u001b[0;31m                                  % (value, level_str), origin)\n\u001b[0m\u001b[1;32m    363\u001b[0m             \u001b[0;32mexcept\u001b[0m \u001b[0mTypeError\u001b[0m\u001b[0;34m:\u001b[0m\u001b[0;34m\u001b[0m\u001b[0;34m\u001b[0m\u001b[0m\n",
      "\u001b[0;31mPatsyError\u001b[0m: Error converting data to categorical: observation with value 'Man Utd' does not match any of the expected levels (expected: ['Arsenal', 'Aston Villa', ..., 'West Ham', 'Wolves'])\n    goals ~ home + team + opponent\n                   ^^^^",
      "\nDuring handling of the above exception, another exception occurred:\n",
      "\u001b[0;31mPatsyError\u001b[0m                                Traceback (most recent call last)",
      "\u001b[0;32m<ipython-input-19-25b9df2ab0f0>\u001b[0m in \u001b[0;36m<module>\u001b[0;34m\u001b[0m\n\u001b[1;32m     20\u001b[0m \u001b[0;34m\u001b[0m\u001b[0m\n\u001b[1;32m     21\u001b[0m \u001b[0;34m\u001b[0m\u001b[0m\n\u001b[0;32m---> 22\u001b[0;31m     \u001b[0mresult\u001b[0m \u001b[0;34m=\u001b[0m \u001b[0msimulate_match\u001b[0m\u001b[0;34m(\u001b[0m\u001b[0mpredictor\u001b[0m\u001b[0;34m,\u001b[0m \u001b[0mhome\u001b[0m\u001b[0;34m,\u001b[0m \u001b[0maway\u001b[0m\u001b[0;34m,\u001b[0m \u001b[0mmax_goals\u001b[0m\u001b[0;34m=\u001b[0m\u001b[0;36m10\u001b[0m\u001b[0;34m)\u001b[0m\u001b[0;34m\u001b[0m\u001b[0;34m\u001b[0m\u001b[0m\n\u001b[0m\u001b[1;32m     23\u001b[0m     \u001b[0mhome_prop\u001b[0m\u001b[0;34m.\u001b[0m\u001b[0mappend\u001b[0m\u001b[0;34m(\u001b[0m\u001b[0mnp\u001b[0m\u001b[0;34m.\u001b[0m\u001b[0msum\u001b[0m\u001b[0;34m(\u001b[0m\u001b[0mnp\u001b[0m\u001b[0;34m.\u001b[0m\u001b[0mtril\u001b[0m\u001b[0;34m(\u001b[0m\u001b[0mmci_whu\u001b[0m\u001b[0;34m,\u001b[0m \u001b[0;34m-\u001b[0m\u001b[0;36m1\u001b[0m\u001b[0;34m)\u001b[0m\u001b[0;34m)\u001b[0m\u001b[0;34m)\u001b[0m\u001b[0;34m\u001b[0m\u001b[0;34m\u001b[0m\u001b[0m\n\u001b[1;32m     24\u001b[0m     \u001b[0mdraw_prop\u001b[0m\u001b[0;34m.\u001b[0m\u001b[0mappend\u001b[0m\u001b[0;34m(\u001b[0m\u001b[0mnp\u001b[0m\u001b[0;34m.\u001b[0m\u001b[0msum\u001b[0m\u001b[0;34m(\u001b[0m\u001b[0mnp\u001b[0m\u001b[0;34m.\u001b[0m\u001b[0mdiag\u001b[0m\u001b[0;34m(\u001b[0m\u001b[0mmci_whu\u001b[0m\u001b[0;34m)\u001b[0m\u001b[0;34m)\u001b[0m\u001b[0;34m)\u001b[0m\u001b[0;34m\u001b[0m\u001b[0;34m\u001b[0m\u001b[0m\n",
      "\u001b[0;32m<ipython-input-2-1b5d421cf956>\u001b[0m in \u001b[0;36msimulate_match\u001b[0;34m(foot_model, homeTeam, awayTeam, max_goals)\u001b[0m\n\u001b[1;32m      2\u001b[0m     home_goals_avg = foot_model.predict(pd.DataFrame(data={'team': homeTeam, \n\u001b[1;32m      3\u001b[0m                                                             'opponent': awayTeam,'home':1},\n\u001b[0;32m----> 4\u001b[0;31m                                                       index=[1])).values[0]\n\u001b[0m\u001b[1;32m      5\u001b[0m     away_goals_avg = foot_model.predict(pd.DataFrame(data={'team': awayTeam, \n\u001b[1;32m      6\u001b[0m                                                             'opponent': homeTeam,'home':0},\n",
      "\u001b[0;32m~/anaconda3/lib/python3.7/site-packages/statsmodels/base/model.py\u001b[0m in \u001b[0;36mpredict\u001b[0;34m(self, exog, transform, *args, **kwargs)\u001b[0m\n\u001b[1;32m   1019\u001b[0m                        \u001b[0;34m'\\n\\nThe original error message returned by patsy is:\\n'\u001b[0m\u001b[0;34m\u001b[0m\u001b[0;34m\u001b[0m\u001b[0m\n\u001b[1;32m   1020\u001b[0m                        '{0}'.format(str(str(exc))))\n\u001b[0;32m-> 1021\u001b[0;31m                 \u001b[0;32mraise\u001b[0m \u001b[0mexc\u001b[0m\u001b[0;34m.\u001b[0m\u001b[0m__class__\u001b[0m\u001b[0;34m(\u001b[0m\u001b[0mmsg\u001b[0m\u001b[0;34m)\u001b[0m\u001b[0;34m\u001b[0m\u001b[0;34m\u001b[0m\u001b[0m\n\u001b[0m\u001b[1;32m   1022\u001b[0m             \u001b[0;32mif\u001b[0m \u001b[0morig_exog_len\u001b[0m \u001b[0;34m>\u001b[0m \u001b[0mlen\u001b[0m\u001b[0;34m(\u001b[0m\u001b[0mexog\u001b[0m\u001b[0;34m)\u001b[0m \u001b[0;32mand\u001b[0m \u001b[0;32mnot\u001b[0m \u001b[0mis_dict\u001b[0m\u001b[0;34m:\u001b[0m\u001b[0;34m\u001b[0m\u001b[0;34m\u001b[0m\u001b[0m\n\u001b[1;32m   1023\u001b[0m                 \u001b[0;32mimport\u001b[0m \u001b[0mwarnings\u001b[0m\u001b[0;34m\u001b[0m\u001b[0;34m\u001b[0m\u001b[0m\n",
      "\u001b[0;31mPatsyError\u001b[0m: predict requires that you use a DataFrame when predicting from a model\nthat was created using the formula api.\n\nThe original error message returned by patsy is:\nError converting data to categorical: observation with value 'Man Utd' does not match any of the expected levels (expected: ['Arsenal', 'Aston Villa', ..., 'West Ham', 'Wolves'])\n    goals ~ home + team + opponent\n                   ^^^^"
     ]
    }
   ],
   "source": [
    "matches = []\n",
    "home_prop = []\n",
    "draw_prop = []\n",
    "away_prop = []\n",
    "\n",
    "for index, row in upcoming_ten_matches.iterrows():\n",
    "    home = row['HomeTeam']\n",
    "    if home == 'Spurs':\n",
    "        home = 'Tottenham'\n",
    "    if home == 'Sheffield Utd':\n",
    "        home = 'Sheffield United'\n",
    "    away = row['AwayTeam']\n",
    "    if away == 'Spurs':\n",
    "        away = 'Tottenham'\n",
    "    if away == 'Sheffield Utd':\n",
    "        away = 'Sheffield United'\n",
    "\n",
    "    match = home + '_' + away\n",
    "    matches.append(match)\n",
    "\n",
    "    \n",
    "    result = simulate_match(predictor, home, away, max_goals=10)\n",
    "    home_prop.append(np.sum(np.tril(mci_whu, -1)))\n",
    "    draw_prop.append(np.sum(np.diag(mci_whu)))\n",
    "    away_prop.append(np.sum(np.triu(mci_whu, 1)))\n",
    "    \n",
    "result_pd = pd.DataFrame({'matches': matches, 'home': home_prop, 'draw': draw_prop, 'away': away_prop})\n",
    "    "
   ]
  },
  {
   "cell_type": "code",
   "execution_count": null,
   "metadata": {},
   "outputs": [],
   "source": []
  }
 ],
 "metadata": {
  "kernelspec": {
   "display_name": "Python 3",
   "language": "python",
   "name": "python3"
  },
  "language_info": {
   "codemirror_mode": {
    "name": "ipython",
    "version": 3
   },
   "file_extension": ".py",
   "mimetype": "text/x-python",
   "name": "python",
   "nbconvert_exporter": "python",
   "pygments_lexer": "ipython3",
   "version": "3.7.3"
  }
 },
 "nbformat": 4,
 "nbformat_minor": 2
}
